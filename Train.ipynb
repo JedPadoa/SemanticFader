{
 "cells": [
  {
   "cell_type": "code",
   "execution_count": 9,
   "id": "a0c66e65-af80-434f-a515-e2b7724e70ee",
   "metadata": {},
   "outputs": [],
   "source": [
    "from blocks.encoder import Encoder, VariationalEncoder\n",
    "from blocks.pqmf import PQMF\n",
    "from blocks.decoder import Generator\n",
    "from blocks.latent_discriminator import LatentDiscriminator\n",
    "import torch\n",
    "import pytorch_lightning as pl\n",
    "from aux import AudioDistanceV1\n",
    "from dataset_lmdb import AudioDataset\n",
    "from model import JeffVAE\n",
    "from config import Config as config\n",
    "import torch.multiprocessing as mp\n",
    "import os\n",
    "from torch.utils.data import DataLoader, Subset, random_split"
   ]
  },
  {
   "cell_type": "code",
   "execution_count": 11,
   "id": "97788eeb-925c-4880-af81-8d90cf03f967",
   "metadata": {},
   "outputs": [
    {
     "name": "stdout",
     "output_type": "stream",
     "text": [
      "computing bins...\n",
      "bins computed\n"
     ]
    }
   ],
   "source": [
    "full_dataset = AudioDataset(\n",
    "        db_path='data/test_db',\n",
    "        descriptors=config.DESCRIPTORS,\n",
    "        nb_bins=config.NUM_BINS\n",
    "    )"
   ]
  },
  {
   "cell_type": "code",
   "execution_count": 19,
   "id": "6a927409-6082-42ee-b505-c2204e6bb97b",
   "metadata": {},
   "outputs": [],
   "source": [
    "def custom_collate(batch):\n",
    "    audios, features, bin_values = zip(*batch)\n",
    "    \n",
    "    # Stack audios and features normally\n",
    "    audios = torch.stack(audios)\n",
    "    features = torch.stack(features) \n",
    "    \n",
    "    # bin_values should be the same for all samples, so just take the first one\n",
    "    # This prevents it from being batched\n",
    "    bin_values = bin_values[0]  # Take first sample's bin_values\n",
    "    \n",
    "    return audios, features, bin_values"
   ]
  },
  {
   "cell_type": "code",
   "execution_count": 21,
   "id": "07aee962-eabb-4a37-ac2f-333a6df3b323",
   "metadata": {},
   "outputs": [
    {
     "ename": "NameError",
     "evalue": "name 'device' is not defined",
     "output_type": "error",
     "traceback": [
      "\u001b[0;31m---------------------------------------------------------------------------\u001b[0m",
      "\u001b[0;31mNameError\u001b[0m                                 Traceback (most recent call last)",
      "Cell \u001b[0;32mIn[21], line 34\u001b[0m\n\u001b[1;32m     24\u001b[0m model \u001b[38;5;241m=\u001b[39m JeffVAE(\n\u001b[1;32m     25\u001b[0m         latent_size\u001b[38;5;241m=\u001b[39mconfig\u001b[38;5;241m.\u001b[39mLATENT_SIZE,\n\u001b[1;32m     26\u001b[0m         encoder\u001b[38;5;241m=\u001b[39mvariational_encoder,\n\u001b[0;32m   (...)\u001b[0m\n\u001b[1;32m     31\u001b[0m         learning_rate\u001b[38;5;241m=\u001b[39m\u001b[38;5;241m1e-3\u001b[39m  \u001b[38;5;66;03m# Specify learning rate\u001b[39;00m\n\u001b[1;32m     32\u001b[0m     )\n\u001b[1;32m     33\u001b[0m model\u001b[38;5;241m.\u001b[39mtrain_loader \u001b[38;5;241m=\u001b[39m train_loader\n\u001b[0;32m---> 34\u001b[0m model \u001b[38;5;241m=\u001b[39m model\u001b[38;5;241m.\u001b[39mto(\u001b[43mdevice\u001b[49m)\n\u001b[1;32m     36\u001b[0m \u001b[38;5;66;03m#initialize optimizer\u001b[39;00m\n\u001b[1;32m     37\u001b[0m model\u001b[38;5;241m.\u001b[39mconfigure_optimizers()  \u001b[38;5;66;03m# Set up the optimizer for the training step\u001b[39;00m\n",
      "\u001b[0;31mNameError\u001b[0m: name 'device' is not defined"
     ]
    }
   ],
   "source": [
    "device = torch.device('cpu')\n",
    "\n",
    "# Split dataset (e.g., 80% train, 10% val, 10% test)\n",
    "train_size = int(0.8 * len(full_dataset))\n",
    "val_size = int(0.1 * len(full_dataset))\n",
    "test_size = len(full_dataset) - train_size - val_size\n",
    "    \n",
    "train_dataset, val_dataset, test_dataset = random_split(\n",
    "    full_dataset, \n",
    "    [train_size, val_size, test_size],\n",
    "    generator=torch.Generator().manual_seed(42)  # For reproducibility\n",
    ")\n",
    "    \n",
    "train_loader = DataLoader(train_dataset, batch_size=config.BATCH_SIZE, shuffle=True, num_workers=0, collate_fn=custom_collate)\n",
    "val_loader = DataLoader(val_dataset, batch_size=config.BATCH_SIZE, shuffle=False, num_workers=0, collate_fn=custom_collate)\n",
    "test_loader = DataLoader(test_dataset, batch_size=config.BATCH_SIZE, shuffle=False, num_workers=0, collate_fn=custom_collate)\n",
    "    \n",
    "#initialize components\n",
    "encoder = config.ENCODER\n",
    "variational_encoder = config.VE\n",
    "decoder = config.DECODER\n",
    "pqmf = config.PQMF\n",
    "latent_discriminator = config.LATENT_DISCRIMINATOR\n",
    "    \n",
    "#initialize model\n",
    "model = JeffVAE(\n",
    "        latent_size=config.LATENT_SIZE,\n",
    "        encoder=variational_encoder,\n",
    "        decoder=decoder,\n",
    "        latent_discriminator=latent_discriminator,\n",
    "        pqmf=pqmf,\n",
    "        multiband_audio_distance=AudioDistanceV1,\n",
    "        learning_rate=1e-3  # Specify learning rate\n",
    "    )\n",
    "model.train_loader = train_loader\n",
    "model = model.to(device)\n",
    "    \n",
    "#initialize optimizer\n",
    "model.configure_optimizers()  # Set up the optimizer for the training step\n",
    "    \n",
    "     # Initialize trainer\n",
    "trainer = pl.Trainer(\n",
    "        max_epochs=10,\n",
    "        accelerator='cpu',  # Will automatically detect available hardware\n",
    "        devices=1,\n",
    "        logger=True, \n",
    "        log_every_n_steps=1# Add TensorBoard logging\n",
    "    )\n",
    "    \n",
    "    # Train the model\n",
    "trainer.fit(model, train_loader, val_loader)\n"
   ]
  }
 ],
 "metadata": {
  "kernelspec": {
   "display_name": "Python [conda env:torchVAE]",
   "language": "python",
   "name": "conda-env-torchVAE-py"
  },
  "language_info": {
   "codemirror_mode": {
    "name": "ipython",
    "version": 3
   },
   "file_extension": ".py",
   "mimetype": "text/x-python",
   "name": "python",
   "nbconvert_exporter": "python",
   "pygments_lexer": "ipython3",
   "version": "3.10.16"
  }
 },
 "nbformat": 4,
 "nbformat_minor": 5
}
